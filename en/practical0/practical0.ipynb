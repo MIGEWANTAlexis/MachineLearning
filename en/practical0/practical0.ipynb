{
 "cells": [
  {
   "cell_type": "markdown",
   "id": "bdbdc58b",
   "metadata": {},
   "source": [
    "### Goals\n",
    "\n",
    "-   Understanding fundamentals of Python programming:\n",
    "-   Variables, data types, lists, sets and tuples.\n",
    "-   Conditional expressions and loops\n",
    "-   Sort\n",
    "-   Dictionary\n",
    "-   Files and user interaction\n",
    "\n"
   ]
  },
  {
   "cell_type": "markdown",
   "id": "09280256",
   "metadata": {},
   "source": [
    "#### Exercise 1\n",
    "\n",
    "1\\. Comments\n"
   ]
  },
  {
   "cell_type": "code",
   "execution_count": 131,
   "id": "a0466357",
   "metadata": {},
   "outputs": [
    {
     "name": "stdout",
     "output_type": "stream",
     "text": [
      "Bonjour\n"
     ]
    }
   ],
   "source": [
    "# This is a comment\n",
    "print(\"Bonjour\")"
   ]
  },
  {
   "cell_type": "markdown",
   "id": "d7d49807",
   "metadata": {},
   "source": [
    "2\\. Variables\n",
    "\n"
   ]
  },
  {
   "cell_type": "code",
   "execution_count": 132,
   "id": "c8375f10",
   "metadata": {},
   "outputs": [
    {
     "name": "stdout",
     "output_type": "stream",
     "text": [
      "le monde!\n"
     ]
    }
   ],
   "source": [
    "# a variable\n",
    "message = \"le monde!\"\n",
    "print(message)"
   ]
  },
  {
   "cell_type": "code",
   "execution_count": 133,
   "id": "4e90488a",
   "metadata": {},
   "outputs": [
    {
     "name": "stdout",
     "output_type": "stream",
     "text": [
      "30\n"
     ]
    }
   ],
   "source": [
    "a = 10\n",
    "b = 20\n",
    "c = a + b\n",
    "print(c)"
   ]
  },
  {
   "cell_type": "code",
   "execution_count": 134,
   "id": "f936c2a6",
   "metadata": {},
   "outputs": [
    {
     "name": "stdout",
     "output_type": "stream",
     "text": [
      "3.14\n"
     ]
    }
   ],
   "source": [
    "# floating point numbers\n",
    "pi = 3.14\n",
    "print(pi)"
   ]
  },
  {
   "cell_type": "code",
   "execution_count": 135,
   "id": "d45d99a1",
   "metadata": {},
   "outputs": [
    {
     "name": "stdout",
     "output_type": "stream",
     "text": [
      "<class 'str'>\n",
      "<class 'int'>\n",
      "<class 'float'>\n"
     ]
    }
   ],
   "source": [
    "# data types\n",
    "message1 = \"Bonjour\"\n",
    "a = 12\n",
    "pi = 3.14\n",
    "print(type(message1))\n",
    "print(type(a))\n",
    "print(type(pi))"
   ]
  },
  {
   "cell_type": "markdown",
   "id": "649807c1",
   "metadata": {},
   "source": [
    "3\\. Concatenation of two strings\n",
    "\n"
   ]
  },
  {
   "cell_type": "code",
   "execution_count": 136,
   "id": "5dda4f13",
   "metadata": {},
   "outputs": [
    {
     "name": "stdout",
     "output_type": "stream",
     "text": [
      "Bonjourle monde!\n"
     ]
    }
   ],
   "source": [
    "# concatenation of two strings\n",
    "message = \"le monde!\"\n",
    "print(\"Bonjour\" + message)"
   ]
  },
  {
   "cell_type": "code",
   "execution_count": 137,
   "id": "bef383c1",
   "metadata": {},
   "outputs": [
    {
     "name": "stdout",
     "output_type": "stream",
     "text": [
      "Bonjour le monde!\n"
     ]
    }
   ],
   "source": [
    "# concatenation of two strings\n",
    "message1 = \"Bonjour \"\n",
    "message2 = \"le monde!\"\n",
    "print(message1 + message2)"
   ]
  },
  {
   "cell_type": "code",
   "execution_count": 138,
   "id": "32b2b074",
   "metadata": {},
   "outputs": [
    {
     "ename": "TypeError",
     "evalue": "can only concatenate str (not \"int\") to str",
     "output_type": "error",
     "traceback": [
      "\u001b[0;31m---------------------------------------------------------------------------\u001b[0m",
      "\u001b[0;31mTypeError\u001b[0m                                 Traceback (most recent call last)",
      "\u001b[1;32m/Users/alexis/Documents/IRC/4IRC/S8/Datamining/MachineLearning/en/practical0/practical0.ipynb Cell 12'\u001b[0m in \u001b[0;36m<module>\u001b[0;34m\u001b[0m\n\u001b[1;32m      <a href='vscode-notebook-cell:/Users/alexis/Documents/IRC/4IRC/S8/Datamining/MachineLearning/en/practical0/practical0.ipynb#ch0000011?line=4'>5</a>\u001b[0m message1 \u001b[39m=\u001b[39m \u001b[39m\"\u001b[39m\u001b[39mBonjour en Python\u001b[39m\u001b[39m\"\u001b[39m\n\u001b[1;32m      <a href='vscode-notebook-cell:/Users/alexis/Documents/IRC/4IRC/S8/Datamining/MachineLearning/en/practical0/practical0.ipynb#ch0000011?line=5'>6</a>\u001b[0m a \u001b[39m=\u001b[39m \u001b[39m3\u001b[39m\n\u001b[0;32m----> <a href='vscode-notebook-cell:/Users/alexis/Documents/IRC/4IRC/S8/Datamining/MachineLearning/en/practical0/practical0.ipynb#ch0000011?line=6'>7</a>\u001b[0m \u001b[39mprint\u001b[39m(message1 \u001b[39m+\u001b[39;49m a)\n",
      "\u001b[0;31mTypeError\u001b[0m: can only concatenate str (not \"int\") to str"
     ]
    }
   ],
   "source": [
    "# concatenation involving two variables of different data types\n",
    "# operation + on two different data types\n",
    "\n",
    "#Uncomment the print statement and run the code\n",
    "message1 = \"Bonjour en Python\"\n",
    "a = 3\n",
    "print(message1 + a)"
   ]
  },
  {
   "cell_type": "markdown",
   "id": "4c3b2208",
   "metadata": {},
   "source": [
    "Why did you get this error? In the following code, we correct this error."
   ]
  },
  {
   "cell_type": "code",
   "execution_count": null,
   "id": "ab66875c",
   "metadata": {},
   "outputs": [
    {
     "name": "stdout",
     "output_type": "stream",
     "text": [
      "Bonjour en Python 3\n"
     ]
    }
   ],
   "source": [
    "# concatenation solution involving two variables of different data types\n",
    "message1 = \"Bonjour en Python \"\n",
    "a = 3\n",
    "print(message1 + str(a))"
   ]
  },
  {
   "cell_type": "markdown",
   "id": "0bd27772",
   "metadata": {},
   "source": [
    "4\\. Lists"
   ]
  },
  {
   "cell_type": "code",
   "execution_count": null,
   "id": "cacecd57",
   "metadata": {},
   "outputs": [
    {
     "name": "stdout",
     "output_type": "stream",
     "text": [
      "[10, 20, 30, 40, 50]\n"
     ]
    }
   ],
   "source": [
    "a = [10, 20, 30, 40, 50]\n",
    "print(a)"
   ]
  },
  {
   "cell_type": "code",
   "execution_count": null,
   "id": "efcffcb1",
   "metadata": {},
   "outputs": [
    {
     "name": "stdout",
     "output_type": "stream",
     "text": [
      "10\n",
      "20\n",
      "30\n",
      "40\n",
      "50\n"
     ]
    }
   ],
   "source": [
    "a = [10, 20, 30, 40, 50]\n",
    "print(a[0])\n",
    "print(a[1])\n",
    "print(a[2])\n",
    "print(a[3])\n",
    "print(a[4])"
   ]
  },
  {
   "cell_type": "code",
   "execution_count": null,
   "id": "fba08828",
   "metadata": {},
   "outputs": [
    {
     "ename": "IndexError",
     "evalue": "list index out of range",
     "output_type": "error",
     "traceback": [
      "\u001b[0;31m---------------------------------------------------------------------------\u001b[0m",
      "\u001b[0;31mIndexError\u001b[0m                                Traceback (most recent call last)",
      "\u001b[1;32m/Users/alexis/Documents/IRC/4IRC/S8/Datamining/MachineLearning/en/practical0/practical0.ipynb Cell 18'\u001b[0m in \u001b[0;36m<module>\u001b[0;34m\u001b[0m\n\u001b[1;32m      <a href='vscode-notebook-cell:/Users/alexis/Documents/IRC/4IRC/S8/Datamining/MachineLearning/en/practical0/practical0.ipynb#ch0000017?line=0'>1</a>\u001b[0m \u001b[39m#Uncomment the print statement and run the code\u001b[39;00m\n\u001b[1;32m      <a href='vscode-notebook-cell:/Users/alexis/Documents/IRC/4IRC/S8/Datamining/MachineLearning/en/practical0/practical0.ipynb#ch0000017?line=1'>2</a>\u001b[0m a \u001b[39m=\u001b[39m [\u001b[39m10\u001b[39m, \u001b[39m20\u001b[39m, \u001b[39m30\u001b[39m, \u001b[39m40\u001b[39m, \u001b[39m50\u001b[39m]\n\u001b[0;32m----> <a href='vscode-notebook-cell:/Users/alexis/Documents/IRC/4IRC/S8/Datamining/MachineLearning/en/practical0/practical0.ipynb#ch0000017?line=2'>3</a>\u001b[0m \u001b[39mprint\u001b[39m(a[\u001b[39m8\u001b[39;49m])\n",
      "\u001b[0;31mIndexError\u001b[0m: list index out of range"
     ]
    }
   ],
   "source": [
    "#Uncomment the print statement and run the code\n",
    "a = [10, 20, 30, 40, 50]\n",
    "print(a[8])"
   ]
  },
  {
   "cell_type": "markdown",
   "id": "a3781493",
   "metadata": {},
   "source": [
    "Why did you get this error? We are trying to access a element at an index that does not exist."
   ]
  },
  {
   "cell_type": "code",
   "execution_count": null,
   "id": "6bf430fa",
   "metadata": {},
   "outputs": [
    {
     "name": "stdout",
     "output_type": "stream",
     "text": [
      "B\n",
      "o\n",
      "n\n",
      "j\n",
      "o\n",
      "u\n",
      "r\n",
      " \n"
     ]
    }
   ],
   "source": [
    "message1 = \"Bonjour en Python \"\n",
    "print(message1[0])\n",
    "print(message1[1])\n",
    "print(message1[2])\n",
    "print(message1[3])\n",
    "print(message1[4])\n",
    "print(message1[5])\n",
    "print(message1[6])\n",
    "print(message1[7])"
   ]
  },
  {
   "cell_type": "markdown",
   "id": "e70cc929",
   "metadata": {},
   "source": [
    "The above code displayed the individual characters in the string (or list of characters).\n",
    "We will now get the length of this string."
   ]
  },
  {
   "cell_type": "code",
   "execution_count": null,
   "id": "c5c64e9a",
   "metadata": {},
   "outputs": [
    {
     "name": "stdout",
     "output_type": "stream",
     "text": [
      "18\n"
     ]
    }
   ],
   "source": [
    "message1 = \"Bonjour en Python \"\n",
    "print(len(message1))"
   ]
  },
  {
   "cell_type": "markdown",
   "id": "14d05b2f",
   "metadata": {},
   "source": [
    "Nous allons maintenant créer une liste d'entiers. "
   ]
  },
  {
   "cell_type": "code",
   "execution_count": null,
   "id": "78141c8d",
   "metadata": {},
   "outputs": [
    {
     "name": "stdout",
     "output_type": "stream",
     "text": [
      "5\n"
     ]
    }
   ],
   "source": [
    "a = [10, 20, 30, 40, 50]\n",
    "print(len(a))"
   ]
  },
  {
   "cell_type": "code",
   "execution_count": null,
   "id": "b647981e",
   "metadata": {},
   "outputs": [
    {
     "name": "stdout",
     "output_type": "stream",
     "text": [
      "[10, 20, 30, 40, 50, 60]\n"
     ]
    }
   ],
   "source": [
    "a = [10, 20, 30, 40, 50]\n",
    "\n",
    "# add a new number at the end of the list\n",
    "a.append(60)\n",
    "print(a)"
   ]
  },
  {
   "cell_type": "code",
   "execution_count": null,
   "id": "6fbc3631",
   "metadata": {},
   "outputs": [
    {
     "name": "stdout",
     "output_type": "stream",
     "text": [
      "[0, 20, 30, 40, 50]\n"
     ]
    }
   ],
   "source": [
    "a = [10, 20, 30, 40, 50]\n",
    "\n",
    "# modify a number at a particular index\n",
    "a[0] = 0\n",
    "print(a)"
   ]
  },
  {
   "cell_type": "markdown",
   "id": "82fc5e5d",
   "metadata": {},
   "source": [
    "Why did we get this error? We are modifying an element at a non-existing index."
   ]
  },
  {
   "cell_type": "code",
   "execution_count": null,
   "id": "18359528",
   "metadata": {},
   "outputs": [
    {
     "ename": "IndexError",
     "evalue": "list assignment index out of range",
     "output_type": "error",
     "traceback": [
      "\u001b[0;31m---------------------------------------------------------------------------\u001b[0m",
      "\u001b[0;31mIndexError\u001b[0m                                Traceback (most recent call last)",
      "\u001b[1;32m/Users/alexis/Documents/IRC/4IRC/S8/Datamining/MachineLearning/en/practical0/practical0.ipynb Cell 28'\u001b[0m in \u001b[0;36m<module>\u001b[0;34m\u001b[0m\n\u001b[1;32m      <a href='vscode-notebook-cell:/Users/alexis/Documents/IRC/4IRC/S8/Datamining/MachineLearning/en/practical0/practical0.ipynb#ch0000027?line=0'>1</a>\u001b[0m \u001b[39m#Uncomment the assignment statement and run the code\u001b[39;00m\n\u001b[1;32m      <a href='vscode-notebook-cell:/Users/alexis/Documents/IRC/4IRC/S8/Datamining/MachineLearning/en/practical0/practical0.ipynb#ch0000027?line=1'>2</a>\u001b[0m a \u001b[39m=\u001b[39m [\u001b[39m10\u001b[39m, \u001b[39m20\u001b[39m, \u001b[39m30\u001b[39m, \u001b[39m40\u001b[39m, \u001b[39m50\u001b[39m]\n\u001b[0;32m----> <a href='vscode-notebook-cell:/Users/alexis/Documents/IRC/4IRC/S8/Datamining/MachineLearning/en/practical0/practical0.ipynb#ch0000027?line=2'>3</a>\u001b[0m a[\u001b[39m6\u001b[39m] \u001b[39m=\u001b[39m \u001b[39m20\u001b[39m\n\u001b[1;32m      <a href='vscode-notebook-cell:/Users/alexis/Documents/IRC/4IRC/S8/Datamining/MachineLearning/en/practical0/practical0.ipynb#ch0000027?line=3'>4</a>\u001b[0m \u001b[39mprint\u001b[39m(a)\n",
      "\u001b[0;31mIndexError\u001b[0m: list assignment index out of range"
     ]
    }
   ],
   "source": [
    "#Uncomment the assignment statement and run the code\n",
    "a = [10, 20, 30, 40, 50]\n",
    "a[6] = 20\n",
    "print(a)"
   ]
  },
  {
   "cell_type": "code",
   "execution_count": null,
   "id": "3c336a50",
   "metadata": {},
   "outputs": [
    {
     "name": "stdout",
     "output_type": "stream",
     "text": [
      "[0, 10, 20, 30, 40, 50]\n",
      "6\n"
     ]
    }
   ],
   "source": [
    "a = [10, 20, 30, 40, 50]\n",
    "\n",
    "# inserting an element at a particular index will modify the list\n",
    "a.insert(0, 0)\n",
    "print(a)\n",
    "print(len(a))"
   ]
  },
  {
   "cell_type": "code",
   "execution_count": null,
   "id": "b8882be8",
   "metadata": {},
   "outputs": [
    {
     "name": "stdout",
     "output_type": "stream",
     "text": [
      "[10, 20, 30, 40, 50, 60]\n",
      "6\n"
     ]
    }
   ],
   "source": [
    "a = [10, 20, 30, 40, 50]\n",
    "a.insert(6,60)\n",
    "print(a)\n",
    "print(len(a))"
   ]
  },
  {
   "cell_type": "code",
   "execution_count": null,
   "id": "56c78aa9",
   "metadata": {},
   "outputs": [
    {
     "name": "stdout",
     "output_type": "stream",
     "text": [
      "[10, 20, 30, 40, 50, 60]\n",
      "6\n"
     ]
    }
   ],
   "source": [
    "a = [10, 20, 30, 40, 50]\n",
    "\n",
    "# We will now try to insert a number at an index greater than the length\n",
    "# of the list. We will see that we do not get any error and the new number\n",
    "# is added at the end of the list\n",
    "a.insert(10,60)\n",
    "print(a)\n",
    "print(len(a))"
   ]
  },
  {
   "cell_type": "markdown",
   "id": "c91eaa9d",
   "metadata": {},
   "source": [
    "5\\. Tuples (non-modifiable lists)\n",
    "\n"
   ]
  },
  {
   "cell_type": "code",
   "execution_count": null,
   "id": "bb6811a5",
   "metadata": {},
   "outputs": [
    {
     "name": "stdout",
     "output_type": "stream",
     "text": [
      "(10, 20, 30, 40, 50)\n"
     ]
    }
   ],
   "source": [
    "a = (10, 20, 30, 40, 50)\n",
    "print(a)"
   ]
  },
  {
   "cell_type": "code",
   "execution_count": null,
   "id": "21a48c1a",
   "metadata": {},
   "outputs": [
    {
     "name": "stdout",
     "output_type": "stream",
     "text": [
      "10\n"
     ]
    }
   ],
   "source": [
    "a = (10, 20, 30, 40, 50)\n",
    "print(a[0])"
   ]
  },
  {
   "cell_type": "code",
   "execution_count": null,
   "id": "2a3834d3",
   "metadata": {},
   "outputs": [
    {
     "ename": "TypeError",
     "evalue": "'tuple' object does not support item assignment",
     "output_type": "error",
     "traceback": [
      "\u001b[0;31m---------------------------------------------------------------------------\u001b[0m",
      "\u001b[0;31mTypeError\u001b[0m                                 Traceback (most recent call last)",
      "\u001b[1;32m/Users/alexis/Documents/IRC/4IRC/S8/Datamining/MachineLearning/en/practical0/practical0.ipynb Cell 35'\u001b[0m in \u001b[0;36m<module>\u001b[0;34m\u001b[0m\n\u001b[1;32m      <a href='vscode-notebook-cell:/Users/alexis/Documents/IRC/4IRC/S8/Datamining/MachineLearning/en/practical0/practical0.ipynb#ch0000034?line=0'>1</a>\u001b[0m a \u001b[39m=\u001b[39m (\u001b[39m10\u001b[39m, \u001b[39m20\u001b[39m, \u001b[39m30\u001b[39m, \u001b[39m40\u001b[39m, \u001b[39m50\u001b[39m)\n\u001b[1;32m      <a href='vscode-notebook-cell:/Users/alexis/Documents/IRC/4IRC/S8/Datamining/MachineLearning/en/practical0/practical0.ipynb#ch0000034?line=2'>3</a>\u001b[0m \u001b[39m# We now try to modify a tuple\u001b[39;00m\n\u001b[1;32m      <a href='vscode-notebook-cell:/Users/alexis/Documents/IRC/4IRC/S8/Datamining/MachineLearning/en/practical0/practical0.ipynb#ch0000034?line=3'>4</a>\u001b[0m \u001b[39m# Uncomment the code below and run the code\u001b[39;00m\n\u001b[1;32m      <a href='vscode-notebook-cell:/Users/alexis/Documents/IRC/4IRC/S8/Datamining/MachineLearning/en/practical0/practical0.ipynb#ch0000034?line=4'>5</a>\u001b[0m \u001b[39m# A tupe is a non-modifiable list\u001b[39;00m\n\u001b[0;32m----> <a href='vscode-notebook-cell:/Users/alexis/Documents/IRC/4IRC/S8/Datamining/MachineLearning/en/practical0/practical0.ipynb#ch0000034?line=6'>7</a>\u001b[0m a[\u001b[39m0\u001b[39m] \u001b[39m=\u001b[39m \u001b[39m0\u001b[39m\n\u001b[1;32m      <a href='vscode-notebook-cell:/Users/alexis/Documents/IRC/4IRC/S8/Datamining/MachineLearning/en/practical0/practical0.ipynb#ch0000034?line=7'>8</a>\u001b[0m \u001b[39mprint\u001b[39m(a)\n",
      "\u001b[0;31mTypeError\u001b[0m: 'tuple' object does not support item assignment"
     ]
    }
   ],
   "source": [
    "a = (10, 20, 30, 40, 50)\n",
    "\n",
    "# We now try to modify a tuple\n",
    "# Uncomment the code below and run the code\n",
    "# A tupe is a non-modifiable list\n",
    "\n",
    "a[0] = 0\n",
    "print(a)"
   ]
  },
  {
   "cell_type": "markdown",
   "id": "271c22de",
   "metadata": {},
   "source": [
    "6\\. Sets\n",
    "\n"
   ]
  },
  {
   "cell_type": "code",
   "execution_count": null,
   "id": "e387c46a",
   "metadata": {},
   "outputs": [
    {
     "name": "stdout",
     "output_type": "stream",
     "text": [
      "{50, 20, 40, 10, 30}\n"
     ]
    }
   ],
   "source": [
    "# A set is a collection of distinct elements\n",
    "a = {10, 20, 30, 40, 50, 10, 20, 30, 40, 50}\n",
    "print(a)"
   ]
  },
  {
   "cell_type": "code",
   "execution_count": null,
   "id": "507af93b",
   "metadata": {},
   "outputs": [
    {
     "name": "stdout",
     "output_type": "stream",
     "text": [
      "{50, 20, 40, 10, 30}\n"
     ]
    }
   ],
   "source": [
    "a = {10, 20, 30, 40, 50, 10, 20, 30, 40, 50}\n",
    "a.add(10)\n",
    "print(a)"
   ]
  },
  {
   "cell_type": "code",
   "execution_count": null,
   "id": "4e895206",
   "metadata": {},
   "outputs": [
    {
     "name": "stdout",
     "output_type": "stream",
     "text": [
      "{50, 20, 40, 10, 60, 30}\n"
     ]
    }
   ],
   "source": [
    "a = {10, 20, 30, 40, 50, 10, 20, 30, 40, 50}\n",
    "a.add(60)\n",
    "print(a)"
   ]
  },
  {
   "cell_type": "code",
   "execution_count": null,
   "id": "bde07c5d",
   "metadata": {},
   "outputs": [
    {
     "name": "stdout",
     "output_type": "stream",
     "text": [
      "{50, 20, 10, 30}\n"
     ]
    }
   ],
   "source": [
    "a = {10, 20, 30, 40, 50, 10, 20, 30, 40, 50}\n",
    "a.remove(40)\n",
    "print(a)"
   ]
  },
  {
   "cell_type": "markdown",
   "id": "0d60e0d6",
   "metadata": {},
   "source": [
    "We will now try different data types with the numbers and print the result"
   ]
  },
  {
   "cell_type": "code",
   "execution_count": null,
   "id": "cf438a38",
   "metadata": {},
   "outputs": [
    {
     "name": "stdout",
     "output_type": "stream",
     "text": [
      "{50, 20, 40, 10, 30}\n",
      "<class 'set'>\n",
      "(10, 20, 30, 40, 50, 10, 20, 30, 40, 50)\n",
      "<class 'tuple'>\n",
      "[10, 20, 30, 40, 50, 10, 20, 30, 40, 50]\n",
      "<class 'list'>\n"
     ]
    }
   ],
   "source": [
    "# set\n",
    "a = {10, 20, 30, 40, 50, 10, 20, 30, 40, 50}\n",
    "print(a)\n",
    "print(type(a))\n",
    " \n",
    "# tuple\n",
    "b = (10, 20, 30, 40, 50, 10, 20, 30, 40, 50)\n",
    "print(b)\n",
    "print(type(b))\n",
    " \n",
    "# list\n",
    "c= [10, 20, 30, 40, 50, 10, 20, 30, 40, 50]\n",
    "print(c)\n",
    "print(type(c))\n"
   ]
  },
  {
   "cell_type": "markdown",
   "id": "ac3e4fe5",
   "metadata": {},
   "source": [
    "#### Exercise 2\n",
    "\n",
    "1\\. Conditional Expressions\n",
    "\n"
   ]
  },
  {
   "cell_type": "code",
   "execution_count": null,
   "id": "2cf3f9f5",
   "metadata": {},
   "outputs": [
    {
     "name": "stdout",
     "output_type": "stream",
     "text": [
      "12  is divisible by 2\n"
     ]
    }
   ],
   "source": [
    "a = 12\n",
    "if( a%2 == 0):\n",
    "    print(a, \" is divisible by 2\")\n",
    "else:\n",
    "    print(a, \" is not divisible by 2\")"
   ]
  },
  {
   "cell_type": "code",
   "execution_count": null,
   "id": "eb487b61",
   "metadata": {},
   "outputs": [
    {
     "name": "stdout",
     "output_type": "stream",
     "text": [
      "Bonjour le monde!\n"
     ]
    }
   ],
   "source": [
    "lang = \"Français\"\n",
    "if (lang ==\"Français\"):\n",
    "    print(\"Bonjour le monde!\")\n",
    "else:\n",
    "    print(\"Hello World!\")"
   ]
  },
  {
   "cell_type": "markdown",
   "id": "78a14220",
   "metadata": {},
   "source": [
    "2\\. Loops\n",
    "\n",
    "Loops can also be used to access the elements at different indices."
   ]
  },
  {
   "cell_type": "code",
   "execution_count": null,
   "id": "334bb39a",
   "metadata": {},
   "outputs": [
    {
     "name": "stdout",
     "output_type": "stream",
     "text": [
      "10\n",
      "20\n",
      "30\n",
      "40\n",
      "50\n",
      "10\n",
      "20\n",
      "30\n",
      "40\n",
      "50\n"
     ]
    }
   ],
   "source": [
    "for i in [10, 20, 30, 40, 50, 10, 20, 30, 40, 50]:\n",
    "    print(i)"
   ]
  },
  {
   "cell_type": "code",
   "execution_count": null,
   "id": "6fd0de4a",
   "metadata": {},
   "outputs": [
    {
     "name": "stdout",
     "output_type": "stream",
     "text": [
      "10\n",
      "20\n",
      "30\n",
      "40\n",
      "50\n",
      "10\n",
      "20\n",
      "30\n",
      "40\n",
      "50\n"
     ]
    }
   ],
   "source": [
    "for i in (10, 20, 30, 40, 50, 10, 20, 30, 40, 50):\n",
    "    print(i)"
   ]
  },
  {
   "cell_type": "code",
   "execution_count": null,
   "id": "46c4e6d8",
   "metadata": {},
   "outputs": [
    {
     "name": "stdout",
     "output_type": "stream",
     "text": [
      "40\n",
      "10\n",
      "50\n",
      "20\n",
      "30\n"
     ]
    }
   ],
   "source": [
    "for i in {10, 20, 30, 40, 50, 10, 20, 30, 40, 50}:\n",
    "    print(i)"
   ]
  },
  {
   "cell_type": "markdown",
   "id": "60ddd6b8",
   "metadata": {},
   "source": [
    "2\\. Range\n",
    "\n"
   ]
  },
  {
   "cell_type": "code",
   "execution_count": null,
   "id": "1b209614",
   "metadata": {},
   "outputs": [
    {
     "name": "stdout",
     "output_type": "stream",
     "text": [
      "0\n",
      "1\n",
      "2\n",
      "3\n",
      "4\n",
      "5\n",
      "6\n",
      "7\n",
      "8\n",
      "9\n"
     ]
    }
   ],
   "source": [
    "for i in range(0,10):\n",
    "    print(i)"
   ]
  },
  {
   "cell_type": "code",
   "execution_count": null,
   "id": "fd0ddc76",
   "metadata": {},
   "outputs": [
    {
     "name": "stdout",
     "output_type": "stream",
     "text": [
      "0\n",
      "2\n",
      "4\n",
      "6\n",
      "8\n"
     ]
    }
   ],
   "source": [
    "for i in range(0,10,2):\n",
    "    print(i)"
   ]
  },
  {
   "cell_type": "code",
   "execution_count": null,
   "id": "2f773915",
   "metadata": {},
   "outputs": [
    {
     "name": "stdout",
     "output_type": "stream",
     "text": [
      "0 2 4 6 8 "
     ]
    }
   ],
   "source": [
    "# print() by default displays the message followed by a new line\n",
    "# But you can change its behaviour\n",
    "for i in range(0,10,2):\n",
    "    print(i, end=' ')"
   ]
  },
  {
   "cell_type": "code",
   "execution_count": null,
   "id": "aa7c44f3",
   "metadata": {},
   "outputs": [
    {
     "name": "stdout",
     "output_type": "stream",
     "text": [
      "10\n",
      "8\n",
      "6\n",
      "4\n",
      "2\n"
     ]
    }
   ],
   "source": [
    "for i in range(10,0,-2):\n",
    "    print(i)"
   ]
  },
  {
   "cell_type": "code",
   "execution_count": null,
   "id": "3ce0fe2a",
   "metadata": {},
   "outputs": [],
   "source": [
    "for i in range(10,0):\n",
    "    print(i)"
   ]
  },
  {
   "cell_type": "markdown",
   "id": "0cc00201",
   "metadata": {},
   "source": [
    "split(): the function can be used to separate a string using a specified delimited. \n",
    "    By default, the delimiter is a white space."
   ]
  },
  {
   "cell_type": "code",
   "execution_count": null,
   "id": "1eb3e512",
   "metadata": {},
   "outputs": [
    {
     "name": "stdout",
     "output_type": "stream",
     "text": [
      "Bonjour,le,monde!\n"
     ]
    }
   ],
   "source": [
    "for i in \"Bonjour,le,monde!\".split():\n",
    "    print(i)"
   ]
  },
  {
   "cell_type": "code",
   "execution_count": null,
   "id": "f5122144",
   "metadata": {},
   "outputs": [
    {
     "name": "stdout",
     "output_type": "stream",
     "text": [
      "Bonjour\n",
      "le\n",
      "monde!\n"
     ]
    }
   ],
   "source": [
    "for i in \"Bonjour,le,monde!\".split(\",\"):\n",
    "    print(i)"
   ]
  },
  {
   "cell_type": "markdown",
   "id": "d58a6616",
   "metadata": {},
   "source": [
    "Write a program in Python to display the following output\n",
    "\n",
    "  \n",
    " 1\n",
    " \n",
    " 12\n",
    " \n",
    " 123\n",
    " \n",
    " 1234\n",
    " \n",
    " 12345\n",
    " \n",
    " 123456\n",
    " \n",
    " 1234567\n",
    " \n",
    " 12345678"
   ]
  },
  {
   "cell_type": "code",
   "execution_count": null,
   "id": "447a35cf",
   "metadata": {},
   "outputs": [
    {
     "name": "stdout",
     "output_type": "stream",
     "text": [
      "1\n",
      "12\n",
      "123\n",
      "1234\n",
      "12345\n",
      "123456\n",
      "1234567\n",
      "12345678\n"
     ]
    }
   ],
   "source": [
    "res = ''\n",
    "for i in range(1, 9):\n",
    "    res = res + str(i)\n",
    "    print(res)"
   ]
  },
  {
   "cell_type": "markdown",
   "id": "f60e58aa",
   "metadata": {},
   "source": [
    "#### Exercise 3\n",
    "\n",
    "1\\. Sort\n",
    "\n"
   ]
  },
  {
   "cell_type": "code",
   "execution_count": null,
   "id": "943be2ce",
   "metadata": {},
   "outputs": [
    {
     "name": "stdout",
     "output_type": "stream",
     "text": [
      "[10, 10, 20, 20, 30, 30, 40, 40, 50, 50]\n"
     ]
    }
   ],
   "source": [
    "num = [10, 20, 30, 40, 50, 10, 20, 30, 40, 50]\n",
    "num.sort()\n",
    "print(num)"
   ]
  },
  {
   "cell_type": "markdown",
   "id": "93f6c35c",
   "metadata": {},
   "source": [
    "2\\. Sort (decreasing order)\n",
    "\n"
   ]
  },
  {
   "cell_type": "code",
   "execution_count": null,
   "id": "38debfdd",
   "metadata": {},
   "outputs": [
    {
     "name": "stdout",
     "output_type": "stream",
     "text": [
      "[50, 50, 40, 40, 30, 30, 20, 20, 10, 10]\n"
     ]
    }
   ],
   "source": [
    "num = [10, 20, 30, 40, 50, 10, 20, 30, 40, 50]\n",
    "num.sort(reverse=True)\n",
    "print(num)"
   ]
  },
  {
   "cell_type": "markdown",
   "id": "ca36b36f",
   "metadata": {},
   "source": [
    "3\\. minimum\n",
    "\n"
   ]
  },
  {
   "cell_type": "code",
   "execution_count": null,
   "id": "34a0e168",
   "metadata": {},
   "outputs": [
    {
     "name": "stdout",
     "output_type": "stream",
     "text": [
      "10\n"
     ]
    }
   ],
   "source": [
    "num = [10, 20, 30, 40, 50, 10, 20, 30, 40, 50]\n",
    "print(min(num))"
   ]
  },
  {
   "cell_type": "markdown",
   "id": "6c1c0ba9",
   "metadata": {},
   "source": [
    "4\\. maximum\n",
    "\n"
   ]
  },
  {
   "cell_type": "code",
   "execution_count": null,
   "id": "86d46e8c",
   "metadata": {},
   "outputs": [
    {
     "name": "stdout",
     "output_type": "stream",
     "text": [
      "50\n"
     ]
    }
   ],
   "source": [
    "num = [10, 20, 30, 40, 50, 10, 20, 30, 40, 50]\n",
    "print(max(num))"
   ]
  },
  {
   "cell_type": "markdown",
   "id": "362c9939",
   "metadata": {},
   "source": [
    "5\\. sorted()\n",
    "\n",
    "You can use the function if you do not wish to modify your initial list by sorting."
   ]
  },
  {
   "cell_type": "code",
   "execution_count": null,
   "id": "ec215b21",
   "metadata": {},
   "outputs": [
    {
     "name": "stdout",
     "output_type": "stream",
     "text": [
      "[70, 20, 30, 10, 50, 60, 20, 80, 70, 50]\n",
      "[80, 70, 70, 60, 50, 50, 30, 20, 20, 10]\n"
     ]
    }
   ],
   "source": [
    "num = [70, 20, 30, 10, 50, 60, 20, 80, 70, 50]\n",
    "sortednum = sorted(num,reverse=True)\n",
    "print(num)\n",
    "print(sortednum)"
   ]
  },
  {
   "cell_type": "code",
   "execution_count": null,
   "id": "293b986e",
   "metadata": {},
   "outputs": [
    {
     "name": "stdout",
     "output_type": "stream",
     "text": [
      "[80, 70, 70, 60, 50]\n"
     ]
    }
   ],
   "source": [
    "num = [70, 20, 30, 10, 50, 60, 20, 80, 70, 50]\n",
    "\n",
    "# select first five numbers\n",
    "sortednum = sorted(num,reverse=True)[:5]\n",
    "print(sortednum)"
   ]
  },
  {
   "cell_type": "markdown",
   "id": "6b91e6a8",
   "metadata": {},
   "source": [
    "Modify the code given below to display the five greatest unique numbers.\n",
    "\n"
   ]
  },
  {
   "cell_type": "code",
   "execution_count": null,
   "id": "b3ea117a",
   "metadata": {},
   "outputs": [
    {
     "name": "stdout",
     "output_type": "stream",
     "text": [
      "['monde!', 'le', 'Bonjour']\n"
     ]
    }
   ],
   "source": [
    "print(sorted(\"Bonjour le monde!\".split(), key=str.lower, reverse=True))"
   ]
  },
  {
   "cell_type": "markdown",
   "id": "e0c410c3",
   "metadata": {},
   "source": [
    "#### Exercise 4\n",
    "\n",
    "1\\. Dictionary\n",
    "\n"
   ]
  },
  {
   "cell_type": "code",
   "execution_count": null,
   "id": "698e101c",
   "metadata": {},
   "outputs": [
    {
     "name": "stdout",
     "output_type": "stream",
     "text": [
      "{'contente': 12, 'content': 12, 'triste': 2}\n",
      "<class 'dict'>\n"
     ]
    }
   ],
   "source": [
    "a = {\"contente\": 12, \"content\": 12, \"triste\": 2}\n",
    "print(a)\n",
    "print(type(a))"
   ]
  },
  {
   "cell_type": "code",
   "execution_count": null,
   "id": "2765f661",
   "metadata": {},
   "outputs": [
    {
     "name": "stdout",
     "output_type": "stream",
     "text": [
      "la phrase  contente  apparait  12  fois\n",
      "la phrase  content  apparait  12  fois\n",
      "la phrase  triste  apparait  2  fois\n"
     ]
    }
   ],
   "source": [
    "a = {\"contente\": 12, \"content\": 12, \"triste\": 2}\n",
    "for key in a:\n",
    "    print(\"la phrase \", key, \" apparait \", a[key], \" fois\")"
   ]
  },
  {
   "cell_type": "code",
   "execution_count": null,
   "id": "59bf90f8",
   "metadata": {},
   "outputs": [
    {
     "name": "stdout",
     "output_type": "stream",
     "text": [
      "la phrase  contente  apparait  12  fois\n",
      "la phrase  content  apparait  12  fois\n",
      "la phrase  triste  apparait  2  fois\n"
     ]
    }
   ],
   "source": [
    "a = {\"contente\": 12, \"content\": 12, \"triste\": 2}\n",
    "for key,value in a.items():\n",
    "    print(\"la phrase \", key, \" apparait \", value, \" fois\")"
   ]
  },
  {
   "cell_type": "code",
   "execution_count": null,
   "id": "c13c7381",
   "metadata": {},
   "outputs": [
    {
     "name": "stdout",
     "output_type": "stream",
     "text": [
      "{'contente': 12, 'content': 12, 'triste': 2, 'joie': 10}\n"
     ]
    }
   ],
   "source": [
    "a = {\"contente\": 12, \"content\": 12, \"triste\": 2}\n",
    "a[\"joie\"] = 10\n",
    "print(a)"
   ]
  },
  {
   "cell_type": "code",
   "execution_count": null,
   "id": "4cefe32a",
   "metadata": {},
   "outputs": [
    {
     "name": "stdout",
     "output_type": "stream",
     "text": [
      "{'contente': 12, 'content': 12}\n"
     ]
    }
   ],
   "source": [
    "a = {\"contente\": 12, \"content\": 12, \"triste\": 2}\n",
    "del a[\"triste\"]\n",
    "print(a)"
   ]
  },
  {
   "cell_type": "code",
   "execution_count": null,
   "id": "32ec6972",
   "metadata": {},
   "outputs": [
    {
     "name": "stdout",
     "output_type": "stream",
     "text": [
      "['content', 'contente', 'joie', 'triste']\n"
     ]
    }
   ],
   "source": [
    "mots = {\"contente\": 12, \"content\": 12, \"triste\": 2, \"joie\" : 10}\n",
    "print(sorted(mots))"
   ]
  },
  {
   "cell_type": "code",
   "execution_count": null,
   "id": "12d3fd1b",
   "metadata": {},
   "outputs": [
    {
     "name": "stdout",
     "output_type": "stream",
     "text": [
      "[('contente', 12), ('content', 12), ('triste', 2), ('joie', 10)]\n"
     ]
    }
   ],
   "source": [
    "mots = {\"contente\": 12, \"content\": 12, \"triste\": 2, \"joie\" : 10}\n",
    "mots_tuple = [(key, value) for key,value in mots.items()]\n",
    "print(mots_tuple)"
   ]
  },
  {
   "cell_type": "markdown",
   "id": "997ee34c",
   "metadata": {},
   "source": [
    "2\\. itemgetter"
   ]
  },
  {
   "cell_type": "code",
   "execution_count": null,
   "id": "97bcd89c",
   "metadata": {},
   "outputs": [
    {
     "name": "stdout",
     "output_type": "stream",
     "text": [
      "[('triste', 2), ('joie', 10), ('contente', 12), ('content', 12)]\n"
     ]
    }
   ],
   "source": [
    "from operator import itemgetter\n",
    " \n",
    "mots = {\"contente\": 12, \"content\": 12, \"triste\": 2, \"joie\" : 10}\n",
    "mots_tuple = [(key, value) for key,value in mots.items()]\n",
    "print(sorted(mots_tuple, key=itemgetter(1)))"
   ]
  },
  {
   "cell_type": "markdown",
   "id": "4481b37f",
   "metadata": {},
   "source": [
    "3\\. Interaction with user"
   ]
  },
  {
   "cell_type": "code",
   "execution_count": null,
   "id": "85a270a2",
   "metadata": {},
   "outputs": [
    {
     "name": "stdout",
     "output_type": "stream",
     "text": [
      "Alexis\n"
     ]
    }
   ],
   "source": [
    "nom = input(\"Quel est votre nom?\")\n",
    "print(nom)"
   ]
  },
  {
   "cell_type": "code",
   "execution_count": null,
   "id": "f1c89bc9",
   "metadata": {},
   "outputs": [
    {
     "name": "stdout",
     "output_type": "stream",
     "text": [
      "21\n",
      "<class 'str'>\n"
     ]
    }
   ],
   "source": [
    "age = input(\"Quel est votre âge? \")\n",
    "print(age)\n",
    "print(type(age))"
   ]
  },
  {
   "cell_type": "code",
   "execution_count": null,
   "id": "927fd3a4",
   "metadata": {},
   "outputs": [
    {
     "name": "stdout",
     "output_type": "stream",
     "text": [
      "21\n",
      "<class 'int'>\n"
     ]
    }
   ],
   "source": [
    "age = input(\"Quel est votre âge? \")\n",
    "age = int(age)\n",
    "print(age)\n",
    "print(type(age))"
   ]
  },
  {
   "cell_type": "markdown",
   "id": "a8f91f56",
   "metadata": {},
   "source": [
    "**Question:** Write a program in Python that interacts with the user to\n",
    "obtain the following information of 5 students:\n",
    "\n",
    "-   Name of student\n",
    "-   Age\n",
    "-   Grades in 5 modules\n",
    "\n",
    "Once the information for all the five students is obtained, calculate\n",
    "and display the following values for every module:\n",
    "\n",
    "-   average grade\n",
    "-   maximum grade\n",
    "-   minimum grade\n",
    "\n"
   ]
  },
  {
   "cell_type": "code",
   "execution_count": null,
   "id": "17d7493c",
   "metadata": {},
   "outputs": [
    {
     "name": "stdout",
     "output_type": "stream",
     "text": [
      "Etudiant n°1\n",
      "1\n",
      "1\n",
      "1\n",
      "1\n",
      "1\n",
      "None\n"
     ]
    }
   ],
   "source": [
    "def askGradeStudent():\n",
    "    allGrades = []\n",
    "    for student in range(1, 2):\n",
    "        print(f\"Etudiant n°{student}\")\n",
    "\n",
    "        studentName = input(\"Quel est ton prénom ?\")\n",
    "        studentAge = input(\"Quel est ton age ?\")\n",
    "        studentGradeMath = input(\"Quel est ta note en math ?\")\n",
    "        studentGradeProg = input(\"Quel est ta note en programmation ? \")\n",
    "        studentGradeNetwork = input(\"Quel est ta note en réseau ?\")\n",
    "        studentGradeDevOps = input(\"Quel est ta note en devops ?\")\n",
    "        studentGradePhysic = input(\"Quel est ta note en physique ?\")\n",
    "\n",
    "        grades = initGrades(studentGradeMath, studentGradeProg, studentGradeNetwork, studentGradeDevOps, studentGradePhysic)\n",
    "        studentGrade = {'name': studentName, 'grades': grades}\n",
    "        allGrades.append(studentGrade)\n",
    "    average(allGrades)\n",
    "\n",
    "def initGrades(studentGradeMath, studentGradeProg, studentGradeNetwork, studentGradeDevOps, studentGradePhysic):\n",
    "    grades = {'math': studentGradeMath, 'prog': studentGradeProg, 'network': studentGradeNetwork, 'devops': studentGradeDevOps, 'physic': studentGradePhysic}\n",
    "    return grades\n",
    "\n",
    "def average(grades):\n",
    "    for grade in grades:\n",
    "        studentsGrades = grade['grades']\n",
    "        for gradeStudent in studentsGrades:\n",
    "            print(studentsGrades[gradeStudent])\n",
    "\n",
    "print(askGradeStudent())\n",
    "    "
   ]
  },
  {
   "cell_type": "markdown",
   "id": "524f2fdd",
   "metadata": {},
   "source": [
    "#### Exercise 5\n",
    "\n"
   ]
  },
  {
   "cell_type": "markdown",
   "id": "50fbfcf3",
   "metadata": {},
   "source": [
    "1\\. Files\n",
    "\n"
   ]
  },
  {
   "cell_type": "code",
   "execution_count": null,
   "id": "137928da",
   "metadata": {},
   "outputs": [],
   "source": [
    "message = \"Bonjour le monde\"\n",
    "with open(\"bonjour.txt\", \"w\") as file:\n",
    "    file.write(message)\n",
    "file.close()"
   ]
  },
  {
   "cell_type": "code",
   "execution_count": null,
   "id": "1769167e",
   "metadata": {},
   "outputs": [
    {
     "name": "stdout",
     "output_type": "stream",
     "text": [
      "Bonjour le monde\n"
     ]
    }
   ],
   "source": [
    "with open(\"bonjour.txt\", \"r\") as file:\n",
    "    text = file.read()\n",
    "    print(text)\n",
    "file.close()"
   ]
  },
  {
   "cell_type": "code",
   "execution_count": null,
   "id": "1f67a181",
   "metadata": {},
   "outputs": [],
   "source": [
    "message1 = \"Bonjour le monde\"\n",
    "message2 = \"Programmation en Python\"\n",
    "with open(\"bonjour.txt\", \"w\") as file:\n",
    "    file.write(message1)\n",
    "    file.write(message2)\n",
    "file.close()"
   ]
  },
  {
   "cell_type": "code",
   "execution_count": null,
   "id": "b2e5fb12",
   "metadata": {},
   "outputs": [
    {
     "name": "stdout",
     "output_type": "stream",
     "text": [
      "Bonjour le mondeProgrammation en Python\n"
     ]
    }
   ],
   "source": [
    "with open(\"bonjour.txt\", \"r\") as file:\n",
    "    text = file.read()\n",
    "    print(text)\n",
    "file.close()"
   ]
  },
  {
   "cell_type": "code",
   "execution_count": null,
   "id": "9664692d",
   "metadata": {},
   "outputs": [
    {
     "name": "stdout",
     "output_type": "stream",
     "text": [
      "Bonjour le monde\n",
      "Programmation en Python\n"
     ]
    }
   ],
   "source": [
    "message1 = \"Bonjour le monde\\n\"\n",
    "message2 = \"Programmation en Python\"\n",
    "with open(\"bonjour.txt\", \"w\") as file:\n",
    "    file.write(message1)\n",
    "    file.write(message2)\n",
    "file.close()\n",
    " \n",
    "with open(\"bonjour.txt\", \"r\") as file:\n",
    "    text = file.read()\n",
    "    print(text)\n",
    "file.close()"
   ]
  },
  {
   "cell_type": "markdown",
   "id": "172ff5a1",
   "metadata": {},
   "source": [
    "2\\. readline()\n",
    "\n",
    "This function can be used to read a file line by line and not the complete content in a single call like read()\n"
   ]
  },
  {
   "cell_type": "code",
   "execution_count": null,
   "id": "025ada90",
   "metadata": {},
   "outputs": [],
   "source": [
    "message1 = \"Bonjour le monde\\n\"\n",
    "message2 = \"Programmation en Python\"\n",
    "with open(\"bonjour.txt\", \"w\") as file:\n",
    "    file.write(message1)\n",
    "    file.write(message2)\n",
    "file.close()"
   ]
  },
  {
   "cell_type": "code",
   "execution_count": null,
   "id": "ddf994c1",
   "metadata": {},
   "outputs": [
    {
     "name": "stdout",
     "output_type": "stream",
     "text": [
      "Bonjour le monde\n",
      "\n"
     ]
    }
   ],
   "source": [
    "with open(\"bonjour.txt\", \"r\") as file:\n",
    "    text = file.readline()\n",
    "    print(text)\n",
    "file.close()"
   ]
  },
  {
   "cell_type": "code",
   "execution_count": null,
   "id": "585d1c7b",
   "metadata": {},
   "outputs": [],
   "source": [
    "message1 = \"Bonjour le monde\\n\"\n",
    "message2 = \"Programmation en Python\\n\"\n",
    "with open(\"bonjour.txt\", \"w\") as file:\n",
    "    file.write(message1)\n",
    "    file.write(message2)\n",
    "file.close()"
   ]
  },
  {
   "cell_type": "code",
   "execution_count": null,
   "id": "c4823af1",
   "metadata": {},
   "outputs": [
    {
     "name": "stdout",
     "output_type": "stream",
     "text": [
      "Bonjour le monde\n",
      "\n",
      "Programmation en Python\n",
      "\n"
     ]
    }
   ],
   "source": [
    "with open(\"bonjour.txt\", \"r\") as file:\n",
    "    for line in file:\n",
    "        print(line)\n",
    "file.close()"
   ]
  },
  {
   "cell_type": "markdown",
   "id": "12d4185d",
   "metadata": {},
   "source": [
    "**Question:** Copy any HTML file in your home directory. Write a program\n",
    "in Python to get the following values:\n",
    "\n",
    "-   number of characters in the HTML file\n",
    "-   number of lines in the HTML file\n",
    "-   number of words in the HTML file\n",
    "-   first twenty words in the HTML file\n",
    "-   distinct words in the HTML file\n",
    "\n"
   ]
  },
  {
   "cell_type": "markdown",
   "id": "7a396d8e",
   "metadata": {},
   "source": [
    "**Question:** Copy the CSV\n",
    "file population.csv from the **data** folder. The file contains the population values between\n",
    "1901 and 2016. Write a program in Python to get the maximum value.\n",
    "\n",
    "-   the maximum value of population\n",
    "-   the minimum value of population\n",
    "\n"
   ]
  },
  {
   "cell_type": "code",
   "execution_count": null,
   "id": "4407422d",
   "metadata": {},
   "outputs": [],
   "source": []
  },
  {
   "cell_type": "markdown",
   "id": "cb365e2a",
   "metadata": {},
   "source": [
    "# Numpy"
   ]
  },
  {
   "cell_type": "code",
   "execution_count": 142,
   "id": "1295818a",
   "metadata": {},
   "outputs": [
    {
     "name": "stdout",
     "output_type": "stream",
     "text": [
      "Collecting numpy\n",
      "  Downloading numpy-1.22.2-cp39-cp39-macosx_10_14_x86_64.whl (17.6 MB)\n",
      "\u001b[2K     \u001b[90m━━━━━━━━━━━━━━━━━━━━━━━━━━━━━━━━━━━━━━━━\u001b[0m \u001b[32m17.6/17.6 MB\u001b[0m \u001b[31m14.8 MB/s\u001b[0m eta \u001b[36m0:00:00\u001b[0m00:01\u001b[0m00:01\u001b[0m\n",
      "\u001b[?25hInstalling collected packages: numpy\n",
      "Successfully installed numpy-1.22.2\n"
     ]
    }
   ],
   "source": [
    "!pip install numpy"
   ]
  },
  {
   "cell_type": "code",
   "execution_count": 143,
   "id": "04512184",
   "metadata": {},
   "outputs": [],
   "source": [
    "import numpy as np"
   ]
  },
  {
   "cell_type": "markdown",
   "id": "cad24584",
   "metadata": {},
   "source": [
    "## Matrix operations"
   ]
  },
  {
   "cell_type": "code",
   "execution_count": 144,
   "id": "21f91b0f",
   "metadata": {},
   "outputs": [],
   "source": [
    "a1 = [1, 2, 3, 4]\n",
    "b1 = [5, 6, 7, 8]"
   ]
  },
  {
   "cell_type": "code",
   "execution_count": 145,
   "id": "33ffa71f",
   "metadata": {},
   "outputs": [
    {
     "name": "stdout",
     "output_type": "stream",
     "text": [
      "[ 6  8 10 12]\n"
     ]
    }
   ],
   "source": [
    "c1 = np.add(a1,b1)\n",
    "print(c1)"
   ]
  },
  {
   "cell_type": "code",
   "execution_count": 146,
   "id": "3ba86796",
   "metadata": {},
   "outputs": [
    {
     "name": "stdout",
     "output_type": "stream",
     "text": [
      "[-4 -4 -4 -4]\n"
     ]
    }
   ],
   "source": [
    "c1 = np.subtract(a1,b1)\n",
    "print(c1)"
   ]
  },
  {
   "cell_type": "code",
   "execution_count": 147,
   "id": "3cf23826",
   "metadata": {},
   "outputs": [
    {
     "name": "stdout",
     "output_type": "stream",
     "text": [
      "[ 5 12 21 32]\n"
     ]
    }
   ],
   "source": [
    "c1 = np.multiply(a1,b1)\n",
    "print(c1)"
   ]
  },
  {
   "cell_type": "code",
   "execution_count": 148,
   "id": "442f0116",
   "metadata": {},
   "outputs": [
    {
     "name": "stdout",
     "output_type": "stream",
     "text": [
      "[20 24 28 32]\n"
     ]
    }
   ],
   "source": [
    "c1 = np.multiply(4,b1)\n",
    "print(c1)"
   ]
  },
  {
   "cell_type": "code",
   "execution_count": 149,
   "id": "7cffdeac",
   "metadata": {},
   "outputs": [
    {
     "name": "stdout",
     "output_type": "stream",
     "text": [
      "70\n"
     ]
    }
   ],
   "source": [
    "c1 = np.dot(a1,b1)\n",
    "print(c1)"
   ]
  },
  {
   "cell_type": "code",
   "execution_count": 150,
   "id": "b8b15c62",
   "metadata": {},
   "outputs": [
    {
     "name": "stdout",
     "output_type": "stream",
     "text": [
      "[25 30 35 40]\n"
     ]
    }
   ],
   "source": [
    "c1 = np.dot(5,b1)\n",
    "print(c1)"
   ]
  },
  {
   "cell_type": "code",
   "execution_count": 151,
   "id": "1f302b44",
   "metadata": {},
   "outputs": [
    {
     "name": "stdout",
     "output_type": "stream",
     "text": [
      "30\n"
     ]
    }
   ],
   "source": [
    "b1 = [5, 6, 7, 8]\n",
    "c1 = np.dot(a1,b1)\n",
    "print(c)"
   ]
  },
  {
   "cell_type": "code",
   "execution_count": 152,
   "id": "32f939b6",
   "metadata": {},
   "outputs": [
    {
     "name": "stdout",
     "output_type": "stream",
     "text": [
      "1.5\n"
     ]
    }
   ],
   "source": [
    "a1 = [1, 2]\n",
    "moyen = np.average(a1)\n",
    "print(moyen)"
   ]
  },
  {
   "cell_type": "markdown",
   "id": "61e63306",
   "metadata": {},
   "source": [
    "## Matrix Transposition"
   ]
  },
  {
   "cell_type": "code",
   "execution_count": 153,
   "id": "688e4889",
   "metadata": {},
   "outputs": [
    {
     "name": "stdout",
     "output_type": "stream",
     "text": [
      "[[5, 6, 7, 8, 9], [1, 2, 3, 4, 5]]\n",
      "[[5 1]\n",
      " [6 2]\n",
      " [7 3]\n",
      " [8 4]\n",
      " [9 5]]\n"
     ]
    }
   ],
   "source": [
    "b1 = [[5, 6, 7, 8, 9],\n",
    "      [1, 2, 3, 4, 5]]\n",
    "print(b1)\n",
    "b1 = np.array(b1)\n",
    "print(b1.T)"
   ]
  },
  {
   "cell_type": "markdown",
   "id": "ddc30ca0",
   "metadata": {},
   "source": [
    "## Split a matrix to two, horizontally and vertically"
   ]
  },
  {
   "cell_type": "code",
   "execution_count": 154,
   "id": "903293f8",
   "metadata": {},
   "outputs": [
    {
     "name": "stdout",
     "output_type": "stream",
     "text": [
      "[[0 0]\n",
      " [0 1]\n",
      " [1 0]\n",
      " [1 1]]\n",
      "[[0]\n",
      " [0]\n",
      " [0]\n",
      " [1]]\n"
     ]
    }
   ],
   "source": [
    "a = [[0, 0, 0],\n",
    "        [0, 1, 0],\n",
    "        [1, 0, 0],\n",
    "        [1, 1, 1]]\n",
    "a = np.array(a)\n",
    "\n",
    "a = np.hsplit(a, [2])\n",
    "\n",
    "a1  = a[0]\n",
    "a2  = a[1]\n",
    "print(a1)\n",
    "print(a2)\n"
   ]
  },
  {
   "cell_type": "code",
   "execution_count": 155,
   "id": "412899ed",
   "metadata": {},
   "outputs": [
    {
     "name": "stdout",
     "output_type": "stream",
     "text": [
      "[[0 0 0]\n",
      " [0 1 0]]\n",
      "[[1 0 0]\n",
      " [1 1 1]]\n"
     ]
    }
   ],
   "source": [
    "a = [[0, 0, 0],\n",
    "        [0, 1, 0],\n",
    "        [1, 0, 0],\n",
    "        [1, 1, 1]]\n",
    "a = np.array(a)\n",
    "\n",
    "a = np.vsplit(a, [2])\n",
    "\n",
    "a1  = a[0]\n",
    "a2  = a[1]\n",
    "print(a1)\n",
    "print(a2)\n"
   ]
  },
  {
   "cell_type": "markdown",
   "id": "b51df179",
   "metadata": {},
   "source": [
    "## Operations on two-dimensional matrices"
   ]
  },
  {
   "cell_type": "code",
   "execution_count": 156,
   "id": "9bc6e5d2",
   "metadata": {},
   "outputs": [],
   "source": [
    "a2 = [[1, 2, 3, 4],\n",
    "     [1, 2, 3, 4]]\n",
    "b2 = [[5, 6, 7, 8],\n",
    "     [5, 6, 7, 8]]"
   ]
  },
  {
   "cell_type": "code",
   "execution_count": 157,
   "id": "f1851c3b",
   "metadata": {},
   "outputs": [
    {
     "name": "stdout",
     "output_type": "stream",
     "text": [
      "[[ 6  8 10 12]\n",
      " [ 6  8 10 12]]\n"
     ]
    }
   ],
   "source": [
    "c2 = np.add(a2,b2)\n",
    "print(c2)"
   ]
  },
  {
   "cell_type": "code",
   "execution_count": 158,
   "id": "7cbc3613",
   "metadata": {},
   "outputs": [
    {
     "name": "stdout",
     "output_type": "stream",
     "text": [
      "[[-4 -4 -4 -4]\n",
      " [-4 -4 -4 -4]]\n"
     ]
    }
   ],
   "source": [
    "c2 = np.subtract(a2,b2)\n",
    "print(c2)"
   ]
  },
  {
   "cell_type": "code",
   "execution_count": 159,
   "id": "9853eff7",
   "metadata": {},
   "outputs": [
    {
     "name": "stdout",
     "output_type": "stream",
     "text": [
      "[[ 5 12 21 32]\n",
      " [ 5 12 21 32]]\n"
     ]
    }
   ],
   "source": [
    "c2 = np.multiply(a2,b2)\n",
    "print(c2)"
   ]
  },
  {
   "cell_type": "code",
   "execution_count": 160,
   "id": "826010f1",
   "metadata": {},
   "outputs": [
    {
     "name": "stdout",
     "output_type": "stream",
     "text": [
      "[[70 70]\n",
      " [70 70]]\n"
     ]
    }
   ],
   "source": [
    "a2 = [[1, 2, 3, 4],\n",
    "     [1, 2, 3, 4]]\n",
    "a2 = np.array(a2)\n",
    "b2 = [[5, 6, 7, 8],\n",
    "     [5, 6, 7, 8]]\n",
    "b2 = np.array(b2)\n",
    "c2 = np.dot(a2,b2.T)\n",
    "print(c2)"
   ]
  },
  {
   "cell_type": "markdown",
   "id": "3965b651",
   "metadata": {},
   "source": [
    "## Change the shape of a matrix"
   ]
  },
  {
   "cell_type": "code",
   "execution_count": 161,
   "id": "6fd6ba02",
   "metadata": {},
   "outputs": [
    {
     "name": "stdout",
     "output_type": "stream",
     "text": [
      "[[5 6 7 8]\n",
      " [5 6 7 8]]\n"
     ]
    }
   ],
   "source": [
    "b2.reshape(4,2)\n",
    "print(b2)"
   ]
  },
  {
   "cell_type": "markdown",
   "id": "94c90ac4",
   "metadata": {},
   "source": [
    "## Creation of a matrix with random numbers"
   ]
  },
  {
   "cell_type": "code",
   "execution_count": 162,
   "id": "631b44bc",
   "metadata": {},
   "outputs": [
    {
     "name": "stdout",
     "output_type": "stream",
     "text": [
      "0.7796380435038873\n"
     ]
    }
   ],
   "source": [
    "a = np.random.rand()\n",
    "print(a)"
   ]
  },
  {
   "cell_type": "code",
   "execution_count": 163,
   "id": "7bb8f901",
   "metadata": {},
   "outputs": [
    {
     "name": "stdout",
     "output_type": "stream",
     "text": [
      "[0.07488343]\n"
     ]
    }
   ],
   "source": [
    "a = np.random.rand(1)\n",
    "print(a)"
   ]
  },
  {
   "cell_type": "code",
   "execution_count": 164,
   "id": "27130a1c",
   "metadata": {},
   "outputs": [
    {
     "name": "stdout",
     "output_type": "stream",
     "text": [
      "[[0.71708675 0.04552608 0.90649594 0.73861568 0.80087463]\n",
      " [0.23829045 0.61531631 0.42513231 0.31702601 0.32305024]]\n"
     ]
    }
   ],
   "source": [
    "a = np.random.rand(2,5)\n",
    "print(a)"
   ]
  },
  {
   "cell_type": "code",
   "execution_count": 165,
   "id": "607206e3",
   "metadata": {},
   "outputs": [
    {
     "name": "stdout",
     "output_type": "stream",
     "text": [
      "[[[0.67877537 0.49538411 0.98216672]\n",
      "  [0.82398003 0.43140139 0.4186997 ]\n",
      "  [0.74392675 0.34475243 0.54923014]]\n",
      "\n",
      " [[0.90226931 0.14696363 0.88418215]\n",
      "  [0.30272627 0.8221908  0.65769654]\n",
      "  [0.74534119 0.91075146 0.60417305]]]\n"
     ]
    }
   ],
   "source": [
    "a = np.random.rand(2,3,3)\n",
    "print(a)"
   ]
  },
  {
   "cell_type": "code",
   "execution_count": 166,
   "id": "33ae25f5",
   "metadata": {},
   "outputs": [
    {
     "name": "stdout",
     "output_type": "stream",
     "text": [
      "[0.]\n"
     ]
    }
   ],
   "source": [
    "a = np.zeros(1)\n",
    "print(a)"
   ]
  },
  {
   "cell_type": "code",
   "execution_count": 167,
   "id": "f711a6f9",
   "metadata": {},
   "outputs": [
    {
     "name": "stdout",
     "output_type": "stream",
     "text": [
      "[0]\n"
     ]
    }
   ],
   "source": [
    "a = np.zeros(1, dtype=int)\n",
    "print(a)"
   ]
  },
  {
   "cell_type": "code",
   "execution_count": 168,
   "id": "879c41f4",
   "metadata": {},
   "outputs": [
    {
     "name": "stdout",
     "output_type": "stream",
     "text": [
      "[[0 0 0 0 0]\n",
      " [0 0 0 0 0]]\n"
     ]
    }
   ],
   "source": [
    "a = np.zeros((2,5), dtype=int)\n",
    "print(a)"
   ]
  },
  {
   "cell_type": "markdown",
   "id": "a6016a5d",
   "metadata": {},
   "source": [
    "## Some functions to work with lists"
   ]
  },
  {
   "cell_type": "code",
   "execution_count": 169,
   "id": "2d974bef",
   "metadata": {},
   "outputs": [
    {
     "name": "stdout",
     "output_type": "stream",
     "text": [
      "15\n",
      "14\n",
      "13\n",
      "12\n"
     ]
    }
   ],
   "source": [
    "a = [12, 13, 14, 15]\n",
    "a_reverse = reversed(a)\n",
    "\n",
    "for num in a_reverse:\n",
    "    print(num)"
   ]
  },
  {
   "cell_type": "code",
   "execution_count": 170,
   "id": "72019e30",
   "metadata": {},
   "outputs": [
    {
     "name": "stdout",
     "output_type": "stream",
     "text": [
      "[(0, 'dimanche'), (1, 'lundi'), (2, 'mardi'), (3, 'mercredi'), (4, 'jeudi'), (5, 'vendredi')]\n",
      "[(1, 'dimanche'), (2, 'lundi'), (3, 'mardi'), (4, 'mercredi'), (5, 'jeudi'), (6, 'vendredi')]\n"
     ]
    }
   ],
   "source": [
    "days = ['dimanche', 'lundi', 'mardi', 'mercredi', 'jeudi', 'vendredi']\n",
    "days_num = list(enumerate(days))\n",
    "print(days_num)\n",
    "\n",
    "days_num = list(enumerate(days, start=1))\n",
    "print(days_num)"
   ]
  },
  {
   "cell_type": "code",
   "execution_count": 171,
   "id": "671ec1d0",
   "metadata": {},
   "outputs": [
    {
     "name": "stdout",
     "output_type": "stream",
     "text": [
      "[(1, 5), (2, 6), (3, 7), (4, 8)]\n"
     ]
    }
   ],
   "source": [
    "a1 = [1, 2, 3, 4]\n",
    "b1 = [5, 6, 7, 8]\n",
    "\n",
    "zipped = list(zip(a1, b1))\n",
    "print(zipped)"
   ]
  },
  {
   "cell_type": "code",
   "execution_count": 172,
   "id": "2202b961",
   "metadata": {},
   "outputs": [
    {
     "name": "stdout",
     "output_type": "stream",
     "text": [
      "[(0, (1, 5)), (1, (2, 6)), (2, (3, 7)), (3, (4, 8))]\n"
     ]
    }
   ],
   "source": [
    "a1 = [1, 2, 3, 4]\n",
    "b1 = [5, 6, 7, 8]\n",
    "\n",
    "ezipped = list(enumerate(zip(a1, b1)))\n",
    "print(ezipped)"
   ]
  }
 ],
 "metadata": {
  "kernelspec": {
   "display_name": "Python 3",
   "language": "python",
   "name": "python3"
  },
  "language_info": {
   "codemirror_mode": {
    "name": "ipython",
    "version": 3
   },
   "file_extension": ".py",
   "mimetype": "text/x-python",
   "name": "python",
   "nbconvert_exporter": "python",
   "pygments_lexer": "ipython3",
   "version": "3.9.0"
  }
 },
 "nbformat": 4,
 "nbformat_minor": 5
}
