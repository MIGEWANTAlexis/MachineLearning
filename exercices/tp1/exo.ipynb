{
 "cells": [
  {
   "cell_type": "code",
   "execution_count": 1,
   "metadata": {},
   "outputs": [
    {
     "name": "stdout",
     "output_type": "stream",
     "text": [
      "Hello World!\n"
     ]
    }
   ],
   "source": [
    "print(\"Hello World!\")"
   ]
  },
  {
   "cell_type": "code",
   "execution_count": 2,
   "metadata": {},
   "outputs": [
    {
     "name": "stdout",
     "output_type": "stream",
     "text": [
      "['clear_data_home', 'dump_svmlight_file', 'fetch_20newsgroups', 'fetch_20newsgroups_vectorized', 'fetch_lfw_pairs', 'fetch_lfw_people', 'fetch_olivetti_faces', 'fetch_species_distributions', 'fetch_california_housing', 'fetch_covtype', 'fetch_rcv1', 'fetch_kddcup99', 'fetch_openml', 'get_data_home', 'load_boston', 'load_diabetes', 'load_digits', 'load_files', 'load_iris', 'load_breast_cancer', 'load_linnerud', 'load_sample_image', 'load_sample_images', 'load_svmlight_file', 'load_svmlight_files', 'load_wine', 'make_biclusters', 'make_blobs', 'make_circles', 'make_classification', 'make_checkerboard', 'make_friedman1', 'make_friedman2', 'make_friedman3', 'make_gaussian_quantiles', 'make_hastie_10_2', 'make_low_rank_matrix', 'make_moons', 'make_multilabel_classification', 'make_regression', 'make_s_curve', 'make_sparse_coded_signal', 'make_sparse_spd_matrix', 'make_sparse_uncorrelated', 'make_spd_matrix', 'make_swiss_roll']\n"
     ]
    }
   ],
   "source": [
    "from sklearn import datasets\n",
    "\n",
    "print(datasets.__all__)"
   ]
  },
  {
   "cell_type": "code",
   "execution_count": 3,
   "metadata": {},
   "outputs": [
    {
     "name": "stdout",
     "output_type": "stream",
     "text": [
      "[('ENIAC coding system', 1943) ('ENIAC Short Code', 1946)\n",
      " ('Von Neumann and Goldstine graphing system', 1946)\n",
      " ('ARC Assembly', 1947) ('Plankalkül', 1948) ('CPC Coding scheme', 1948)\n",
      " ('Curry notation system', 1948) ('Short Code', 1949)\n",
      " ('assembly language', 1949) ('Short Code', 1950) ('G-code', 1950)\n",
      " ('Birkbeck Assembler', 1950) ('Superplan', 1951) ('ALGAE', 1951)\n",
      " ('Intermediate Programming Language', 1951)\n",
      " ('Regional Assembly Language', 1951)\n",
      " ('Boehm unnamed coding system', 1951) ('Klammerausdrücke', 1951)\n",
      " ('OMNIBAC Symbolic Assembler', 1951) ('Stanislaus', 1951)\n",
      " ('Whirlwind assembler', 1951) ('Rochester assembler', 1951)\n",
      " ('Sort Merge Generator', 1951) ('autocode', 1952) ('A-0 System', 1952)\n",
      " ('Editing Generator', 1952) ('COMPOOL', 1952) ('Speedcoding', 1953)\n",
      " ('READ/PRINT', 1953) ('Fortran', 1954) ('ARITH-MATIC', 1954)\n",
      " ('autocode', 1954) ('Laning and Zierler system', 1954)\n",
      " ('MATH-MATIC', 1954) ('MATRIX MATH', 1954) ('FLOW-MATIC', 1955)\n",
      " ('PACT', 1955) ('BACAIC', 1955) ('Freiburger Code', 1955)\n",
      " ('Sequentielle Formelübersetzung', 1955) ('Internal Translator', 1955)\n",
      " ('PRINT', 1955) ('Information Processing Language', 1956)\n",
      " ('FORTRAN for the IBM 704', 1956) ('Fortran', 1957) ('COMTRAN', 1957)\n",
      " ('GEORGE', 1957) ('UNICODE', 1957) ('ALGOL 58', 1958) ('Lisp', 1958)\n",
      " ('ALGOL', 1958) ('FORTRAN III', 1958) ('FORTRAN II', 1958)\n",
      " ('JOVIAL', 1959) ('TRAC', 1959) ('COBOL', 1959) ('MAD', 1959)\n",
      " ('Lisp', 1959) ('FACT', 1959) ('COBOL', 1960) ('ALCOR', 1960)\n",
      " ('ALGOL 60', 1960) ('FORTRAN IV', 1961) ('TECO', 1962) ('SNOBOL', 1962)\n",
      " ('APL', 1962) ('Simula', 1962) ('CORC', 1962) ('CPL', 1963)\n",
      " ('JOSS', 1963) ('P′′', 1964) ('Report Program Generator', 1964)\n",
      " ('TRAC', 1964) ('BASIC', 1964) ('COWSEL', 1964) ('MARK IV', 1964)\n",
      " ('MIMIC', 1964) ('PL/I', 1964) ('Speakeasy', 1964) ('IBM RPG II', 1965)\n",
      " ('Atlas Autocode', 1965) ('TELCOMP', 1965) ('Euler', 1966)\n",
      " ('ISWIM', 1966) ('ALGOL W', 1966)\n",
      " ('Massachusetts General Hospital Utility Multi-Programming System', 1966)\n",
      " ('JOSS', 1966) ('Coral 66', 1966) ('BCPL', 1966) ('APL', 1966)\n",
      " ('FORTRAN 66', 1966)\n",
      " ('Massachusetts General Hospital Utility Multi-Programming System', 1967)\n",
      " ('Hop', 1967) ('XPL', 1967) ('Interlisp', 1967) ('BCPL', 1967)\n",
      " ('Simula', 1967) ('Space Programming Language', 1967) ('PILOT', 1968)\n",
      " ('ALGOL 68', 1968)]\n"
     ]
    }
   ],
   "source": [
    "import numpy as np \n",
    "dataset = np.loadtxt(\n",
    "        \"./pl.csv\", \n",
    "        dtype={'names': ('name', 'year'), 'formats': ('U100', 'i4')}, \n",
    "        skiprows=1, \n",
    "        delimiter=\",\", \n",
    "        encoding=\"UTF-8\"\n",
    ") \n",
    "print(dataset)             "
   ]
  },
  {
   "cell_type": "code",
   "execution_count": 5,
   "metadata": {},
   "outputs": [
    {
     "name": "stdout",
     "output_type": "stream",
     "text": [
      "[('ENIAC coding system', 1943) ('ENIAC Short Code', 1946)\n",
      " ('Von Neumann and Goldstine graphing system', 1946)\n",
      " ('ARC Assembly', 1947) ('Plankalkül', 1948) ('CPC Coding scheme', 1948)\n",
      " ('Curry notation system', 1948) ('Short Code', 1949)\n",
      " ('assembly language', 1949) ('Short Code', 1950)\n",
      " ('Birkbeck Assembler', 1950) ('G-code', 1950) ('Superplan', 1951)\n",
      " ('ALGAE', 1951) ('Intermediate Programming Language', 1951)\n",
      " ('Regional Assembly Language', 1951)\n",
      " ('Boehm unnamed coding system', 1951) ('Klammerausdrücke', 1951)\n",
      " ('OMNIBAC Symbolic Assembler', 1951) ('Stanislaus', 1951)\n",
      " ('Whirlwind assembler', 1951) ('Rochester assembler', 1951)\n",
      " ('Sort Merge Generator', 1951) ('Editing Generator', 1952)\n",
      " ('COMPOOL', 1952) ('autocode', 1952) ('A-0 System', 1952)\n",
      " ('READ/PRINT', 1953) ('Speedcoding', 1953) ('Fortran', 1954)\n",
      " ('MATRIX MATH', 1954) ('autocode', 1954) ('ARITH-MATIC', 1954)\n",
      " ('Laning and Zierler system', 1954) ('MATH-MATIC', 1954)\n",
      " ('FLOW-MATIC', 1955) ('BACAIC', 1955) ('Freiburger Code', 1955)\n",
      " ('Sequentielle Formelübersetzung', 1955) ('Internal Translator', 1955)\n",
      " ('PRINT', 1955) ('PACT', 1955) ('Information Processing Language', 1956)\n",
      " ('FORTRAN for the IBM 704', 1956) ('Fortran', 1957) ('UNICODE', 1957)\n",
      " ('COMTRAN', 1957) ('GEORGE', 1957) ('ALGOL 58', 1958) ('Lisp', 1958)\n",
      " ('FORTRAN III', 1958) ('FORTRAN II', 1958) ('ALGOL', 1958)\n",
      " ('JOVIAL', 1959) ('TRAC', 1959) ('COBOL', 1959) ('Lisp', 1959)\n",
      " ('MAD', 1959) ('FACT', 1959) ('COBOL', 1960) ('COBOL', 1960)\n",
      " ('ALGOL 60', 1960) ('ALCOR', 1960) ('FORTRAN IV', 1961) ('SNOBOL', 1962)\n",
      " ('TECO', 1962) ('Simula', 1962) ('APL', 1962) ('CORC', 1962)\n",
      " ('CPL', 1963) ('JOSS', 1963) ('P′′', 1964)\n",
      " ('Report Program Generator', 1964) ('TRAC', 1964) ('BASIC', 1964)\n",
      " ('COWSEL', 1964) ('PL/I', 1964) ('MARK IV', 1964) ('MIMIC', 1964)\n",
      " ('Speakeasy', 1964) ('IBM RPG II', 1965) ('Atlas Autocode', 1965)\n",
      " ('TELCOMP', 1965) ('Euler', 1966) ('ISWIM', 1966) ('ALGOL W', 1966)\n",
      " ('JOSS', 1966)\n",
      " ('Massachusetts General Hospital Utility Multi-Programming System', 1966)\n",
      " ('BCPL', 1966) ('Coral 66', 1966) ('FORTRAN 66', 1966) ('APL', 1966)\n",
      " ('Hop', 1967)\n",
      " ('Massachusetts General Hospital Utility Multi-Programming System', 1967)\n",
      " ('Space Programming Language', 1967) ('BCPL', 1967) ('Interlisp', 1967)\n",
      " ('Simula', 1967) ('XPL', 1967) ('PILOT', 1968)]\n"
     ]
    }
   ],
   "source": [
    "import numpy as np \n",
    "dataset = np.loadtxt(\n",
    "        \"./pl.tsv\", \n",
    "        dtype={'names': ('name', 'year'), 'formats': ('U100', 'i4')}, \n",
    "        skiprows=1, \n",
    "        delimiter=\"\\t\", \n",
    "        encoding=\"UTF-8\"\n",
    ") \n",
    "print(dataset)"
   ]
  },
  {
   "cell_type": "code",
   "execution_count": 6,
   "metadata": {},
   "outputs": [
    {
     "name": "stdout",
     "output_type": "stream",
     "text": [
      "                                languageLabel  year\n",
      "0                         ENIAC coding system  1943\n",
      "1                            ENIAC Short Code  1946\n",
      "2   Von Neumann and Goldstine graphing system  1946\n",
      "3                                ARC Assembly  1947\n",
      "4                                  Plankalkül  1948\n",
      "..                                        ...   ...\n",
      "95                                       BCPL  1967\n",
      "96                                  Interlisp  1967\n",
      "97                                     Simula  1967\n",
      "98                                        XPL  1967\n",
      "99                                      PILOT  1968\n",
      "\n",
      "[100 rows x 2 columns]\n"
     ]
    }
   ],
   "source": [
    "from pandas import json_normalize\n",
    "import pandas as pd\n",
    "import json\n",
    "\n",
    "data = json.load(open('./pl.json'))\n",
    "dataframe = json_normalize(data)\n",
    "print(dataframe)"
   ]
  },
  {
   "cell_type": "code",
   "execution_count": 7,
   "metadata": {},
   "outputs": [
    {
     "name": "stdout",
     "output_type": "stream",
     "text": [
      "    year                              languageLabel\n",
      "0   1942                                 Plankalkül\n",
      "1   1943                        ENIAC coding system\n",
      "2   1946                           ENIAC Short Code\n",
      "3   1946  Von Neumann and Goldstine graphing system\n",
      "4   1947                               ARC Assembly\n",
      "..   ...                                        ...\n",
      "95  1967                 Space Programming Language\n",
      "96  1968                                      Refal\n",
      "97  1968                                      FOCAL\n",
      "98  1968                                      PILOT\n",
      "99  1968                                       CICS\n",
      "\n",
      "[100 rows x 2 columns]\n"
     ]
    }
   ],
   "source": [
    "import urllib.request\n",
    "import json\n",
    "import pandas as pd\n",
    "\n",
    "url = \"https://query.wikidata.org/sparql?query=SELECT%20%3FlanguageLabel%20(YEAR(%3Finception)%20as%20%3Fyear)%0AWHERE%0A%7B%0A%20%20%23instances%20of%20programming%20language%0A%20%20%3Flanguage%20wdt%3AP31%20wd%3AQ9143%3B%0A%20%20%20%20%20%20%20%20%20%20%20%20wdt%3AP571%20%3Finception%3B%0A%20%20%20%20%20%20%20%20%20%20%20%20rdfs%3Alabel%20%3FlanguageLabel.%0A%20%20FILTER(lang(%3FlanguageLabel)%20%3D%20%22en%22)%0A%7D%0AORDER%20BY%20%3Fyear%0ALIMIT%20100&format=json\"\n",
    "response = urllib.request.urlopen(url)\n",
    "responsedata = json.loads(response.read().decode('utf-8'))\n",
    "\n",
    "array = []\n",
    "\n",
    "for data in responsedata['results']['bindings']:\n",
    "     array.append([\n",
    "         data['year']['value'],\n",
    "         data['languageLabel']['value']\n",
    "     ])\n",
    "\n",
    "dataframe = pd.DataFrame(\n",
    "     array,\n",
    "     columns=['year', 'languageLabel']\n",
    ")\n",
    "\n",
    "dataframe = dataframe.astype(dtype= {\"year\":\"<i4\", \"languageLabel\":\"<U200\"})\n",
    "\n",
    "print(dataframe)"
   ]
  },
  {
   "cell_type": "code",
   "execution_count": 8,
   "metadata": {},
   "outputs": [
    {
     "name": "stdout",
     "output_type": "stream",
     "text": [
      "      languageLabel\n",
      "year               \n",
      "1942              1\n",
      "1943              1\n",
      "1946              2\n",
      "1947              1\n",
      "1948              2\n",
      "1949              1\n",
      "1950              3\n",
      "1951             11\n",
      "1952              4\n",
      "1953              2\n",
      "1954              4\n",
      "1955              8\n",
      "1956              1\n",
      "1957              6\n",
      "1958              2\n",
      "1959              4\n",
      "1960              6\n",
      "1961              1\n",
      "1962              5\n",
      "1963              3\n",
      "1964             11\n",
      "1965              5\n",
      "1966              6\n",
      "1967              6\n",
      "1968              4\n"
     ]
    }
   ],
   "source": [
    "grouped = dataframe.groupby('year').count()\n",
    "print(grouped)"
   ]
  },
  {
   "cell_type": "code",
   "execution_count": 9,
   "metadata": {},
   "outputs": [
    {
     "name": "stdout",
     "output_type": "stream",
     "text": [
      "     languageLabel\n",
      "             count\n",
      "year              \n",
      "1942             1\n",
      "1943             1\n",
      "1946             2\n",
      "1947             1\n",
      "1948             2\n",
      "1949             1\n",
      "1950             3\n",
      "1951            11\n",
      "1952             4\n",
      "1953             2\n",
      "1954             4\n",
      "1955             8\n",
      "1956             1\n",
      "1957             6\n",
      "1958             2\n",
      "1959             4\n",
      "1960             6\n",
      "1961             1\n",
      "1962             5\n",
      "1963             3\n",
      "1964            11\n",
      "1965             5\n",
      "1966             6\n",
      "1967             6\n",
      "1968             4\n"
     ]
    }
   ],
   "source": [
    "grouped = dataframe.groupby('year').agg(['count'])\n",
    "print(grouped)"
   ]
  },
  {
   "cell_type": "code",
   "execution_count": 11,
   "metadata": {},
   "outputs": [
    {
     "name": "stdout",
     "output_type": "stream",
     "text": [
      "                                            languageLabel\n",
      "                                                    count\n",
      "year paradigmLabel                                       \n",
      "1948 procedural programming                             1\n",
      "1949 non-structured programming                         1\n",
      "     procedural programming                             1\n",
      "1950 procedural programming                             1\n",
      "1953 procedural programming                             1\n",
      "...                                                   ...\n",
      "1970 imperative programming                             1\n",
      "     procedural programming                             1\n",
      "     structured programming                             1\n",
      "1971 functional programming                             1\n",
      "     knowledge representation and reasoning             1\n",
      "\n",
      "[73 rows x 1 columns]\n"
     ]
    }
   ],
   "source": [
    "from pandas.io.json import json_normalize\n",
    "import pandas as pd\n",
    "import json\n",
    "\n",
    "jsondata = json.load(open('./plparadigm.json'))\n",
    "array = []\n",
    "\n",
    "for data in jsondata:\n",
    "    array.append([\n",
    "        data['year'],\n",
    "        data['languageLabel'], \n",
    "        data['paradigmLabel']\n",
    "    ])\n",
    "\n",
    "dataframe = pd.DataFrame(\n",
    "    array,\n",
    "    columns=['year', 'languageLabel', 'paradigmLabel']\n",
    ")\n",
    "\n",
    "dataframe = dataframe.astype(dtype= {\"year\" : \"int64\",\"languageLabel\" : \"<U200\", \"paradigmLabel\" : \"<U200\"})\n",
    "\n",
    "grouped = dataframe.groupby(['year', 'paradigmLabel']).agg(['count'])\n",
    "print(grouped)"
   ]
  },
  {
   "cell_type": "code",
   "execution_count": 12,
   "metadata": {},
   "outputs": [
    {
     "name": "stdout",
     "output_type": "stream",
     "text": [
      "                            languageLabel\n",
      "                                    count\n",
      "paradigmLabel          year              \n",
      "array programming      1954             1\n",
      "                       1957             1\n",
      "                       1962             1\n",
      "                       1966             1\n",
      "assembly language      1956             1\n",
      "...                                   ...\n",
      "structured programming 1957             1\n",
      "                       1958             1\n",
      "                       1962             1\n",
      "                       1966             1\n",
      "                       1970             1\n",
      "\n",
      "[73 rows x 1 columns]\n"
     ]
    }
   ],
   "source": [
    "grouped = dataframe.groupby(['paradigmLabel', 'year']).agg(['count'])\n",
    "print(grouped)"
   ]
  },
  {
   "cell_type": "code",
   "execution_count": 37,
   "metadata": {},
   "outputs": [
    {
     "name": "stdout",
     "output_type": "stream",
     "text": [
      "             pays annee  population\n",
      "0     Afghanistan  1960     8774440\n",
      "1     Afghanistan  1961     8953544\n",
      "2     Afghanistan  1962     9141783\n",
      "3     Afghanistan  1963     9339507\n",
      "4     Afghanistan  1964     9547131\n",
      "...           ...   ...         ...\n",
      "8584     Zimbabwe  2010    13076978\n",
      "8585     Zimbabwe  2011    13358738\n",
      "8586     Zimbabwe  2012    13724317\n",
      "8587     Zimbabwe  2013    14149648\n",
      "8588     Zimbabwe  2017    16529904\n",
      "\n",
      "[8589 rows x 3 columns]\n"
     ]
    }
   ],
   "source": [
    "from pandas.io.json import json_normalize\n",
    "import pandas as pd\n",
    "import json\n",
    "\n",
    "jsondata = json.load(open('./query.json'))\n",
    "queryColumns = []\n",
    "\n",
    "for data in jsondata:\n",
    "    queryColumns.append([\n",
    "        data['countryLabel'],\n",
    "        data['year'], \n",
    "        data['population']\n",
    "    ])\n",
    "\n",
    "\n",
    "dataframe = pd.DataFrame(\n",
    "    queryColumns,\n",
    "    columns=['pays', 'annee', 'population']\n",
    ")\n",
    "\n",
    "print(dataframe.sort_values(by=['pays', 'annee'],  ascending = (True, True)))"
   ]
  },
  {
   "cell_type": "code",
   "execution_count": 38,
   "metadata": {},
   "outputs": [
    {
     "name": "stdout",
     "output_type": "stream",
     "text": [
      "                pays annee  population\n",
      "57       Afghanistan  2021    37466414\n",
      "113          Albania  2017     2873457\n",
      "170          Algeria  2020    43900000\n",
      "226   American Samoa  2020       55197\n",
      "285          Andorra  2021       78151\n",
      "...              ...   ...         ...\n",
      "8441         Vietnam  2018    94660000\n",
      "8469           Wales  2016     3113000\n",
      "8476           Yemen  2017    28250420\n",
      "8533          Zambia  2017    17094130\n",
      "8588        Zimbabwe  2017    16529904\n",
      "\n",
      "[187 rows x 3 columns]\n"
     ]
    }
   ],
   "source": [
    "grouped = dataframe.groupby(['pays']).tail(1)\n",
    "print(grouped)"
   ]
  },
  {
   "cell_type": "code",
   "execution_count": 53,
   "metadata": {},
   "outputs": [
    {
     "name": "stdout",
     "output_type": "stream",
     "text": [
      "pays          People's Republic of China\n",
      "annee                               2021\n",
      "population                    1442965000\n",
      "Name: 6075, dtype: object\n",
      "----------------------------------------------------------------------------------------------------\n",
      "pays          Niue\n",
      "annee         2016\n",
      "population    1612\n",
      "Name: 5605, dtype: object\n"
     ]
    }
   ],
   "source": [
    "dataframeGrouped = dataframe.groupby(['pays']).tail(1)\n",
    "\n",
    "indexMax = dataframeGrouped['population'].idxmax()\n",
    "print(dataframeGrouped.loc[indexMax])\n",
    "\n",
    "print('-' * 100)\n",
    "\n",
    "indexMin = dataframeGrouped['population'].idxmin()\n",
    "print(dataframeGrouped.loc[indexMin])"
   ]
  },
  {
   "cell_type": "code",
   "execution_count": 161,
   "metadata": {},
   "outputs": [
    {
     "name": "stdout",
     "output_type": "stream",
     "text": [
      "                                                  titre   sujet  year\n",
      "0     Homicide, Suicide, and Unintentional Firearm F...   death  2011\n",
      "1     Suicide mortality in comparison to traffic acc...   death  2012\n",
      "2     Self-injurious thoughts and behaviors as risk ...   death  2015\n",
      "3     Violent Deaths Among Georgia Workers: An Exami...   death  2016\n",
      "4     Increasing Morbidity in the Pregnant Populatio...   death  2015\n",
      "...                                                 ...     ...   ...\n",
      "4995  Association of flavoured cigar regulations wit...  Canada  2018\n",
      "4996  Outbreak of invasive Streptococcus pneumoniae ...  Canada  2014\n",
      "4997  Sex differences in life expectancy in Canada: ...  Canada  2011\n",
      "4998  Features of physician services databases in Ca...  Canada  2012\n",
      "4999  Rates of cancer incidence across terciles of t...  Canada  2013\n",
      "\n",
      "[5000 rows x 3 columns]\n"
     ]
    }
   ],
   "source": [
    "from pandas.io.json import json_normalize\n",
    "import pandas as pd\n",
    "import json\n",
    "\n",
    "jsondata = json.load(open('./query2.json'))\n",
    "queryColumns = []\n",
    "\n",
    "for data in jsondata:\n",
    "    queryColumns.append([\n",
    "        data['title'],\n",
    "        data['subjectLabel'], \n",
    "        data['year']\n",
    "    ])\n",
    "\n",
    "\n",
    "dataframe = pd.DataFrame(\n",
    "    queryColumns,\n",
    "    columns=['titre', 'sujet', 'year']\n",
    ")\n",
    "\n",
    "print(dataframe)"
   ]
  },
  {
   "cell_type": "code",
   "execution_count": 162,
   "metadata": {},
   "outputs": [
    {
     "name": "stdout",
     "output_type": "stream",
     "text": [
      "    year  count\n",
      "0   2011    552\n",
      "1   2012    622\n",
      "2   2013    702\n",
      "3   2014    728\n",
      "4   2015    721\n",
      "5   2016    728\n",
      "6   2017    409\n",
      "7   2018    310\n",
      "8   2019    158\n",
      "9   2020     62\n",
      "10  2021      8\n"
     ]
    }
   ],
   "source": [
    "dataframe.drop_duplicates()\n",
    "df = dataframe.groupby(['year'])['year'].count().to_frame(name='count')\n",
    "print(df.reset_index())"
   ]
  },
  {
   "cell_type": "code",
   "execution_count": 228,
   "metadata": {},
   "outputs": [
    {
     "name": "stdout",
     "output_type": "stream",
     "text": [
      "    year      sujet  count\n",
      "1   2011     Canada    455\n",
      "5   2012     Canada    516\n",
      "10  2013     Canada    571\n",
      "15  2014     Canada    565\n",
      "20  2015     Canada    545\n",
      "25  2016     Canada    575\n",
      "30  2017     Canada    258\n",
      "34  2018     Canada    146\n",
      "39  2019  happiness    135\n",
      "43  2020  happiness     39\n",
      "44  2021     Africa      3\n"
     ]
    }
   ],
   "source": [
    "dataframe.drop_duplicates()\n",
    "df = dataframe.groupby(['year', 'sujet'])['year'].count().to_frame(name='count')\n",
    "df = df.reset_index()\n",
    "print(df.loc[df.groupby(['year'])['count'].idxmax()])\n"
   ]
  },
  {
   "cell_type": "code",
   "execution_count": 246,
   "metadata": {},
   "outputs": [
    {
     "data": {
      "text/html": [
       "<div>\n",
       "<style scoped>\n",
       "    .dataframe tbody tr th:only-of-type {\n",
       "        vertical-align: middle;\n",
       "    }\n",
       "\n",
       "    .dataframe tbody tr th {\n",
       "        vertical-align: top;\n",
       "    }\n",
       "\n",
       "    .dataframe thead th {\n",
       "        text-align: right;\n",
       "    }\n",
       "</style>\n",
       "<table border=\"1\" class=\"dataframe\">\n",
       "  <thead>\n",
       "    <tr style=\"text-align: right;\">\n",
       "      <th></th>\n",
       "      <th>year</th>\n",
       "      <th>sujet</th>\n",
       "      <th>count</th>\n",
       "    </tr>\n",
       "  </thead>\n",
       "  <tbody>\n",
       "    <tr>\n",
       "      <th>1</th>\n",
       "      <td>2011</td>\n",
       "      <td>Canada</td>\n",
       "      <td>455</td>\n",
       "    </tr>\n",
       "    <tr>\n",
       "      <th>5</th>\n",
       "      <td>2012</td>\n",
       "      <td>Canada</td>\n",
       "      <td>516</td>\n",
       "    </tr>\n",
       "    <tr>\n",
       "      <th>10</th>\n",
       "      <td>2013</td>\n",
       "      <td>Canada</td>\n",
       "      <td>571</td>\n",
       "    </tr>\n",
       "    <tr>\n",
       "      <th>15</th>\n",
       "      <td>2014</td>\n",
       "      <td>Canada</td>\n",
       "      <td>565</td>\n",
       "    </tr>\n",
       "    <tr>\n",
       "      <th>20</th>\n",
       "      <td>2015</td>\n",
       "      <td>Canada</td>\n",
       "      <td>545</td>\n",
       "    </tr>\n",
       "    <tr>\n",
       "      <th>25</th>\n",
       "      <td>2016</td>\n",
       "      <td>Canada</td>\n",
       "      <td>575</td>\n",
       "    </tr>\n",
       "    <tr>\n",
       "      <th>30</th>\n",
       "      <td>2017</td>\n",
       "      <td>Canada</td>\n",
       "      <td>258</td>\n",
       "    </tr>\n",
       "    <tr>\n",
       "      <th>34</th>\n",
       "      <td>2018</td>\n",
       "      <td>Canada</td>\n",
       "      <td>146</td>\n",
       "    </tr>\n",
       "    <tr>\n",
       "      <th>39</th>\n",
       "      <td>2019</td>\n",
       "      <td>happiness</td>\n",
       "      <td>135</td>\n",
       "    </tr>\n",
       "    <tr>\n",
       "      <th>43</th>\n",
       "      <td>2020</td>\n",
       "      <td>happiness</td>\n",
       "      <td>39</td>\n",
       "    </tr>\n",
       "  </tbody>\n",
       "</table>\n",
       "</div>"
      ],
      "text/plain": [
       "    year      sujet  count\n",
       "1   2011     Canada    455\n",
       "5   2012     Canada    516\n",
       "10  2013     Canada    571\n",
       "15  2014     Canada    565\n",
       "20  2015     Canada    545\n",
       "25  2016     Canada    575\n",
       "30  2017     Canada    258\n",
       "34  2018     Canada    146\n",
       "39  2019  happiness    135\n",
       "43  2020  happiness     39"
      ]
     },
     "execution_count": 246,
     "metadata": {},
     "output_type": "execute_result"
    }
   ],
   "source": [
    "df.loc[df.groupby(['year'])['count'].idxmax()].head(10)"
   ]
  },
  {
   "cell_type": "code",
   "execution_count": 247,
   "metadata": {},
   "outputs": [
    {
     "name": "stdout",
     "output_type": "stream",
     "text": [
      "    year      sujet  count\n",
      "46  2021      human      3\n",
      "42  2020      death      4\n",
      "14  2014     Africa     35\n",
      "22  2015  happiness    148\n",
      "25  2016     Canada    575\n"
     ]
    }
   ],
   "source": [
    "# Top 10 unique subject\n",
    "print(df.sort_values('count').drop_duplicates('sujet',keep='last').head(10))"
   ]
  }
 ],
 "metadata": {
  "interpreter": {
   "hash": "c17a6ae05ffff0a5b4ffcf922a5c3e41083cfbf77a87b2383409cb71b5ab4cef"
  },
  "kernelspec": {
   "display_name": "Python 3.9.0 64-bit ('3.9.0')",
   "language": "python",
   "name": "python3"
  },
  "language_info": {
   "codemirror_mode": {
    "name": "ipython",
    "version": 3
   },
   "file_extension": ".py",
   "mimetype": "text/x-python",
   "name": "python",
   "nbconvert_exporter": "python",
   "pygments_lexer": "ipython3",
   "version": "3.9.0"
  },
  "orig_nbformat": 4
 },
 "nbformat": 4,
 "nbformat_minor": 2
}
